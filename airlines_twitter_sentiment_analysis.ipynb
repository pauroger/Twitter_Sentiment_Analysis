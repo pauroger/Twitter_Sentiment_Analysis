{
 "cells": [
  {
   "cell_type": "markdown",
   "metadata": {
    "hideCode": false,
    "hidePrompt": false
   },
   "source": [
    "# Twitter sentiment analysis\n",
    "\n",
    "Pau Roger Puig-Sureda,  28/03/2018\n",
    "\n",
    "## Goal\n",
    "\n",
    "Using **R**, predict if tweets have a negative, neutral or positive sentiment towards several airlines."
   ]
  },
  {
   "cell_type": "code",
   "execution_count": 1,
   "metadata": {
    "hideCode": false,
    "hidePrompt": true
   },
   "outputs": [],
   "source": [
    "# If needed, uncomment the following to install all required packages:\n",
    "# install.packages(\n",
    "#  c(\"caret\", \"data.table\", \"e1071\", \"ggplot2\", \"kernlab\", \"magrittr\", \n",
    "#    \"naivebayes\", \"plyr\", \"randomForest\" ,\"SnowballC\", \"tm\", \"xgboost\")\n",
    "# )"
   ]
  },
  {
   "cell_type": "code",
   "execution_count": 29,
   "metadata": {},
   "outputs": [],
   "source": [
    "# Libraries in alphabetical order.\n",
    "library(caret)\n",
    "library(data.table)\n",
    "library(e1071)\n",
    "library(ggplot2)\n",
    "library(kernlab)\n",
    "library(magrittr)\n",
    "library(naivebayes)\n",
    "library(plyr)\n",
    "library(randomForest)\n",
    "library(SnowballC)\n",
    "library(tm)\n",
    "library(xgboost)\n",
    "\n",
    "# Configs.\n",
    "# Supress warnings\n",
    "options(warn=-1)"
   ]
  },
  {
   "cell_type": "code",
   "execution_count": 3,
   "metadata": {
    "hideCode": false,
    "hidePrompt": false
   },
   "outputs": [
    {
     "name": "stdout",
     "output_type": "stream",
     "text": [
      "Shape of the train dataset: 7000 16\n",
      "Shape of the test dataset: 7640 14 \n",
      "\n",
      "[1] \"As we can see, variable 'X.5' from the train dataset does not appear \\n    in the test one plus it does not add any value:\"\n",
      "          x freq\n",
      "1           6999\n",
      "2 New Delhi    1\n"
     ]
    }
   ],
   "source": [
    "# Import data.\n",
    "train <- read.csv(\n",
    "    file = file.path(\"./data/training.csv\"), stringsAsFactors = TRUE\n",
    "    )\n",
    "test <- read.csv(file = file.path(\"./data/test.csv\"), stringsAsFactors = TRUE)\n",
    "\n",
    "cat(\"Shape of the train dataset:\", dim(train))\n",
    "cat(\"\\nShape of the test dataset:\", dim(test), \"\\n\\n\")\n",
    "\n",
    "print(\"As we can see, variable 'X.5' from the train dataset does not appear \\\n",
    "    in the test one plus it does not add any value:\")\n",
    "print(count(train$X.5))"
   ]
  },
  {
   "cell_type": "code",
   "execution_count": 4,
   "metadata": {
    "hideCode": false,
    "hidePrompt": false
   },
   "outputs": [
    {
     "data": {
      "text/html": [
       "<table>\n",
       "<caption>A data.frame: 6 × 15</caption>\n",
       "<thead>\n",
       "\t<tr><th scope=col>tweet_id</th><th scope=col>airline_sentiment</th><th scope=col>airline</th><th scope=col>name</th><th scope=col>retweet_count</th><th scope=col>text</th><th scope=col>tweet_coord</th><th scope=col>tweet_created</th><th scope=col>tweet_location</th><th scope=col>user_timezone</th><th scope=col>X</th><th scope=col>X.1</th><th scope=col>X.2</th><th scope=col>X.3</th><th scope=col>X.4</th></tr>\n",
       "\t<tr><th scope=col>&lt;dbl&gt;</th><th scope=col>&lt;fct&gt;</th><th scope=col>&lt;fct&gt;</th><th scope=col>&lt;fct&gt;</th><th scope=col>&lt;int&gt;</th><th scope=col>&lt;fct&gt;</th><th scope=col>&lt;fct&gt;</th><th scope=col>&lt;fct&gt;</th><th scope=col>&lt;fct&gt;</th><th scope=col>&lt;fct&gt;</th><th scope=col>&lt;fct&gt;</th><th scope=col>&lt;fct&gt;</th><th scope=col>&lt;fct&gt;</th><th scope=col>&lt;fct&gt;</th><th scope=col>&lt;fct&gt;</th></tr>\n",
       "</thead>\n",
       "<tbody>\n",
       "\t<tr><td>5.677744e+17</td><td>negative</td><td>United    </td><td>kristofurmac  </td><td>0</td><td>@united no they were to busy taking to each other and I needed to get to an audition.                                  </td><td></td><td>2015-02-17 11:55:49 -0800</td><td>LA              </td><td>                          </td><td></td><td></td><td></td><td></td><td></td></tr>\n",
       "\t<tr><td>5.680326e+17</td><td>neutral </td><td>US Airways</td><td>MiddleSeatView</td><td>0</td><td>@USAirways if there are empty first class seats on my flight at check in, why wouldn't I be automatically upgraded?    </td><td></td><td>2015-02-18 05:01:30 -0800</td><td>Washington, D.C.</td><td>Atlantic Time (Canada)    </td><td></td><td></td><td></td><td></td><td></td></tr>\n",
       "\t<tr><td>5.684454e+17</td><td>positive</td><td>Southwest </td><td>Omnicom       </td><td>0</td><td>@SouthwestAir @FortuneMagazine Congrats!                                                                               </td><td></td><td>2015-02-19 08:22:02 -0800</td><td>Worldwide       </td><td>Atlantic Time (Canada)    </td><td></td><td></td><td></td><td></td><td></td></tr>\n",
       "\t<tr><td>5.699783e+17</td><td>neutral </td><td><span style=white-space:pre-wrap>American  </span></td><td><span style=white-space:pre-wrap>DigitalEdMom  </span></td><td>0</td><td><span style=white-space:pre-wrap>@AmericanAir 3127. Just landed in LIT.                                                                                 </span></td><td></td><td>2015-02-23 13:53:14 -0800</td><td><span style=white-space:pre-wrap>Wisconsin       </span></td><td>Central Time (US &amp; Canada)</td><td></td><td></td><td></td><td></td><td></td></tr>\n",
       "\t<tr><td>5.697210e+17</td><td>negative</td><td>American  </td><td>OnePoundOne   </td><td>0</td><td>@AmericanAir @ArminRosen @ggreenwald Tell that piece of shit to get fucked... I'll fly exclusively with you for life...</td><td></td><td>2015-02-22 20:50:38 -0800</td><td>Chicago         </td><td>                          </td><td></td><td></td><td></td><td></td><td></td></tr>\n",
       "\t<tr><td>5.702113e+17</td><td>neutral </td><td>United    </td><td>BouleChitte   </td><td>0</td><td>@united how about 3659 YUL-ORD?                                                                                        </td><td></td><td>2015-02-24 05:19:05 -0800</td><td>                </td><td>                          </td><td></td><td></td><td></td><td></td><td></td></tr>\n",
       "</tbody>\n",
       "</table>\n"
      ],
      "text/latex": [
       "A data.frame: 6 × 15\n",
       "\\begin{tabular}{r|lllllllllllllll}\n",
       " tweet\\_id & airline\\_sentiment & airline & name & retweet\\_count & text & tweet\\_coord & tweet\\_created & tweet\\_location & user\\_timezone & X & X.1 & X.2 & X.3 & X.4\\\\\n",
       " <dbl> & <fct> & <fct> & <fct> & <int> & <fct> & <fct> & <fct> & <fct> & <fct> & <fct> & <fct> & <fct> & <fct> & <fct>\\\\\n",
       "\\hline\n",
       "\t 5.677744e+17 & negative & United     & kristofurmac   & 0 & @united no they were to busy taking to each other and I needed to get to an audition.                                   &  & 2015-02-17 11:55:49 -0800 & LA               &                            &  &  &  &  & \\\\\n",
       "\t 5.680326e+17 & neutral  & US Airways & MiddleSeatView & 0 & @USAirways if there are empty first class seats on my flight at check in, why wouldn't I be automatically upgraded?     &  & 2015-02-18 05:01:30 -0800 & Washington, D.C. & Atlantic Time (Canada)     &  &  &  &  & \\\\\n",
       "\t 5.684454e+17 & positive & Southwest  & Omnicom        & 0 & @SouthwestAir @FortuneMagazine Congrats!                                                                                &  & 2015-02-19 08:22:02 -0800 & Worldwide        & Atlantic Time (Canada)     &  &  &  &  & \\\\\n",
       "\t 5.699783e+17 & neutral  & American   & DigitalEdMom   & 0 & @AmericanAir 3127. Just landed in LIT.                                                                                  &  & 2015-02-23 13:53:14 -0800 & Wisconsin        & Central Time (US \\& Canada) &  &  &  &  & \\\\\n",
       "\t 5.697210e+17 & negative & American   & OnePoundOne    & 0 & @AmericanAir @ArminRosen @ggreenwald Tell that piece of shit to get fucked... I'll fly exclusively with you for life... &  & 2015-02-22 20:50:38 -0800 & Chicago          &                            &  &  &  &  & \\\\\n",
       "\t 5.702113e+17 & neutral  & United     & BouleChitte    & 0 & @united how about 3659 YUL-ORD?                                                                                         &  & 2015-02-24 05:19:05 -0800 &                  &                            &  &  &  &  & \\\\\n",
       "\\end{tabular}\n"
      ],
      "text/markdown": [
       "\n",
       "A data.frame: 6 × 15\n",
       "\n",
       "| tweet_id &lt;dbl&gt; | airline_sentiment &lt;fct&gt; | airline &lt;fct&gt; | name &lt;fct&gt; | retweet_count &lt;int&gt; | text &lt;fct&gt; | tweet_coord &lt;fct&gt; | tweet_created &lt;fct&gt; | tweet_location &lt;fct&gt; | user_timezone &lt;fct&gt; | X &lt;fct&gt; | X.1 &lt;fct&gt; | X.2 &lt;fct&gt; | X.3 &lt;fct&gt; | X.4 &lt;fct&gt; |\n",
       "|---|---|---|---|---|---|---|---|---|---|---|---|---|---|---|\n",
       "| 5.677744e+17 | negative | United     | kristofurmac   | 0 | @united no they were to busy taking to each other and I needed to get to an audition.                                   | <!----> | 2015-02-17 11:55:49 -0800 | LA               | <!----> | <!----> | <!----> | <!----> | <!----> | <!----> |\n",
       "| 5.680326e+17 | neutral  | US Airways | MiddleSeatView | 0 | @USAirways if there are empty first class seats on my flight at check in, why wouldn't I be automatically upgraded?     | <!----> | 2015-02-18 05:01:30 -0800 | Washington, D.C. | Atlantic Time (Canada)     | <!----> | <!----> | <!----> | <!----> | <!----> |\n",
       "| 5.684454e+17 | positive | Southwest  | Omnicom        | 0 | @SouthwestAir @FortuneMagazine Congrats!                                                                                | <!----> | 2015-02-19 08:22:02 -0800 | Worldwide        | Atlantic Time (Canada)     | <!----> | <!----> | <!----> | <!----> | <!----> |\n",
       "| 5.699783e+17 | neutral  | American   | DigitalEdMom   | 0 | @AmericanAir 3127. Just landed in LIT.                                                                                  | <!----> | 2015-02-23 13:53:14 -0800 | Wisconsin        | Central Time (US &amp; Canada) | <!----> | <!----> | <!----> | <!----> | <!----> |\n",
       "| 5.697210e+17 | negative | American   | OnePoundOne    | 0 | @AmericanAir @ArminRosen @ggreenwald Tell that piece of shit to get fucked... I'll fly exclusively with you for life... | <!----> | 2015-02-22 20:50:38 -0800 | Chicago          | <!----> | <!----> | <!----> | <!----> | <!----> | <!----> |\n",
       "| 5.702113e+17 | neutral  | United     | BouleChitte    | 0 | @united how about 3659 YUL-ORD?                                                                                         | <!----> | 2015-02-24 05:19:05 -0800 | <!----> | <!----> | <!----> | <!----> | <!----> | <!----> | <!----> |\n",
       "\n"
      ],
      "text/plain": [
       "  tweet_id     airline_sentiment airline    name           retweet_count\n",
       "1 5.677744e+17 negative          United     kristofurmac   0            \n",
       "2 5.680326e+17 neutral           US Airways MiddleSeatView 0            \n",
       "3 5.684454e+17 positive          Southwest  Omnicom        0            \n",
       "4 5.699783e+17 neutral           American   DigitalEdMom   0            \n",
       "5 5.697210e+17 negative          American   OnePoundOne    0            \n",
       "6 5.702113e+17 neutral           United     BouleChitte    0            \n",
       "  text                                                                                                                   \n",
       "1 @united no they were to busy taking to each other and I needed to get to an audition.                                  \n",
       "2 @USAirways if there are empty first class seats on my flight at check in, why wouldn't I be automatically upgraded?    \n",
       "3 @SouthwestAir @FortuneMagazine Congrats!                                                                               \n",
       "4 @AmericanAir 3127. Just landed in LIT.                                                                                 \n",
       "5 @AmericanAir @ArminRosen @ggreenwald Tell that piece of shit to get fucked... I'll fly exclusively with you for life...\n",
       "6 @united how about 3659 YUL-ORD?                                                                                        \n",
       "  tweet_coord tweet_created             tweet_location  \n",
       "1             2015-02-17 11:55:49 -0800 LA              \n",
       "2             2015-02-18 05:01:30 -0800 Washington, D.C.\n",
       "3             2015-02-19 08:22:02 -0800 Worldwide       \n",
       "4             2015-02-23 13:53:14 -0800 Wisconsin       \n",
       "5             2015-02-22 20:50:38 -0800 Chicago         \n",
       "6             2015-02-24 05:19:05 -0800                 \n",
       "  user_timezone              X X.1 X.2 X.3 X.4\n",
       "1                                             \n",
       "2 Atlantic Time (Canada)                      \n",
       "3 Atlantic Time (Canada)                      \n",
       "4 Central Time (US & Canada)                  \n",
       "5                                             \n",
       "6                                             "
      ]
     },
     "metadata": {},
     "output_type": "display_data"
    }
   ],
   "source": [
    "# I will delete said feature.\n",
    "train$X.5 <- NULL\n",
    "\n",
    "# I will now add the target column 'airline_sentiment' into the test \n",
    "# dataset. So that i can merge both dataframes. This way analysis and \n",
    "# transformations are done only once, I will split them again before \n",
    "# modeling.\n",
    "test$airline_sentiment <- as.factor(NA)\n",
    "\n",
    "# Now that we have the same number of columns in both datasets:\n",
    "joined <- rbind(train, test)\n",
    "\n",
    "head(joined)"
   ]
  },
  {
   "cell_type": "code",
   "execution_count": 5,
   "metadata": {
    "hideCode": false,
    "hidePrompt": false
   },
   "outputs": [
    {
     "data": {
      "text/html": [
       "<strong>airline_sentiment:</strong> 7640"
      ],
      "text/latex": [
       "\\textbf{airline\\textbackslash{}\\_sentiment:} 7640"
      ],
      "text/markdown": [
       "**airline_sentiment:** 7640"
      ],
      "text/plain": [
       "airline_sentiment \n",
       "             7640 "
      ]
     },
     "metadata": {},
     "output_type": "display_data"
    }
   ],
   "source": [
    "# Change factors to numbers of the target variable.\n",
    "joined$airline_sentiment <- as.factor(\n",
    "    unclass(joined$airline_sentiment) %>% as.numeric\n",
    "    )\n",
    "\n",
    "# Check for NA's\n",
    "na.cols <- which(colSums(is.na(joined)) > 0)\n",
    "sort(colSums(sapply(joined[na.cols], is.na)), decreasing = TRUE)"
   ]
  },
  {
   "cell_type": "markdown",
   "metadata": {
    "hideCode": false,
    "hidePrompt": false
   },
   "source": [
    "The only null values that we have in the dataset are the ones we need to predict."
   ]
  },
  {
   "cell_type": "code",
   "execution_count": 6,
   "metadata": {
    "hideCode": false,
    "hidePrompt": false
   },
   "outputs": [
    {
     "data": {
      "text/plain": [
       "    tweet_id         airline_sentiment           airline    \n",
       " Min.   :5.676e+17   1   :4373         American      :2759  \n",
       " 1st Qu.:5.686e+17   2   :1498         Delta         :2222  \n",
       " Median :5.695e+17   3   :1129         Southwest     :2420  \n",
       " Mean   :5.692e+17   NA's:7640         United        :3822  \n",
       " 3rd Qu.:5.699e+17                     US Airways    :2913  \n",
       " Max.   :5.703e+17                     Virgin America: 504  \n",
       "                                                            \n",
       "          name       retweet_count                           text      \n",
       " JetBlueNews:   63   Min.   : 0.00000   @united thanks         :    6  \n",
       " kbosspotter:   32   1st Qu.: 0.00000   @AmericanAir thanks    :    5  \n",
       " _mhertz    :   29   Median : 0.00000   @JetBlue thanks!       :    5  \n",
       " otisday    :   28   Mean   : 0.08265   @SouthwestAir sent     :    5  \n",
       " throthra   :   27   3rd Qu.: 0.00000   @AmericanAir thank you!:    4  \n",
       " rossj987   :   23   Max.   :44.00000   @united thank you!     :    4  \n",
       " (Other)    :14438                      (Other)                :14611  \n",
       "                                                           tweet_coord   \n",
       "                                                                 :13107  \n",
       " [0.0, 0.0]                                                      :  157  \n",
       " )                                                               :   17  \n",
       " [40.64656067, -73.78334045]                                     :    6  \n",
       " &lt                                                             :    4  \n",
       " )\\U0001f64f\\U0001f64f\\U0001f64f✌️✌️✌️\\U0001f64f\\U0001f64f\\U0001f64f:    4  \n",
       " (Other)                                                         : 1345  \n",
       "                   tweet_created          tweet_location\n",
       "                          :  462                 :4623  \n",
       " [0.0, 0.0]               :    6   New York, NY  : 152  \n",
       " 2015-02-24 09:54:34 -0800:    5   Boston, MA    : 150  \n",
       " 2015-02-24 11:43:05 -0800:    4   Washington, DC: 139  \n",
       " &lt                      :    3   USA           : 125  \n",
       " 2015-02-23 06:57:24 -0800:    3   New York      : 121  \n",
       " (Other)                  :14157   (Other)       :9330  \n",
       "                    user_timezone                           X        \n",
       "                           :4795                             :14242  \n",
       " Eastern Time (US & Canada):3598   Eastern Time (US & Canada):  129  \n",
       " Central Time (US & Canada):1851   Central Time (US & Canada):   76  \n",
       " Pacific Time (US & Canada):1152   Pacific Time (US & Canada):   52  \n",
       " Quito                     : 711   Quito                     :   24  \n",
       " Atlantic Time (Canada)    : 473   Atlantic Time (Canada)    :   23  \n",
       " (Other)                   :2060   (Other)                   :   94  \n",
       "                          X.1                                X.2       \n",
       "                            :14601                             :14632  \n",
       " Eastern Time (US & Canada) :   15   Quito                     :    2  \n",
       " Central Time (US & Canada) :    4   Dublin                    :    1  \n",
       " Pacific Time (US & Canada) :    4   2015-02-18 01:54:26 -0800 :    1  \n",
       " Mountain Time (US & Canada):    2   2015-02-22 07:04:26 -0800 :    1  \n",
       " oklahoma                   :    2   Eastern Time (US & Canada):    1  \n",
       " (Other)                    :   12   (Other)                   :    2  \n",
       "                        X.3                                X.4       \n",
       "                          :14636                             :14637  \n",
       " 2015-02-18 01:53:01 -0800:    1   bonkers in Yonkers        :    1  \n",
       " bonkers in Yonkers       :    1   Eastern Time (US & Canada):    1  \n",
       " Kansas City, USA         :    1   New Delhi                 :    1  \n",
       " London                   :    1                                     \n",
       "                                                                     \n",
       "                                                                     "
      ]
     },
     "metadata": {},
     "output_type": "display_data"
    }
   ],
   "source": [
    "# Feature analysis\n",
    "summary(joined)"
   ]
  },
  {
   "cell_type": "markdown",
   "metadata": {
    "hideCode": false,
    "hidePrompt": false
   },
   "source": [
    "Few points about the dataset.\n",
    "\n",
    "* Airlines: American, Delta, Southwest, United, US Airways, and Virgin America.\n",
    "* Tweet coordinates is quite a mess, it is a mix of text and actual coordinates.\n",
    "* On the 'location' feature the values are not standardized. I.E. 'New York, NY', 'NYC', 'New York', 'New York City', 'NY'...\n",
    "* The variable 'X' is a mix of location, date-time, coordinates...\n",
    "* The 'X.1' and 'X.4' columns add very little to no information, since most of its values are empty.\n",
    "\n",
    "However, I am mostly interested in the natural language processing of the task, which is why I will mostly focus on the tweets alone.\n",
    "\n",
    "### Visualizations"
   ]
  },
  {
   "cell_type": "code",
   "execution_count": 7,
   "metadata": {
    "hideCode": false,
    "hidePrompt": false
   },
   "outputs": [
    {
     "data": {
      "image/png": "[encoded data removed]",
      "text/plain": [
       "plot without title"
      ]
     },
     "metadata": {},
     "output_type": "display_data"
    }
   ],
   "source": [
    "# Count of tweets per sentiment.\n",
    "sentiment <- as.data.frame(count(train$airline_sentiment))\n",
    "colnames(sentiment) <- c(\"Sentiment\", \"Count\")\n",
    "\n",
    "ggplot(sentiment) + aes(\n",
    "    x=Sentiment, y=Count, fill=Sentiment\n",
    "    ) + geom_bar(stat = 'identity') + scale_fill_brewer(palette=\"Spectral\")"
   ]
  },
  {
   "cell_type": "markdown",
   "metadata": {
    "hideCode": false,
    "hidePrompt": false
   },
   "source": [
    "We can see that when people tweet about an airline, most of the time is to complain about it. Good service is mainly assumed."
   ]
  },
  {
   "cell_type": "code",
   "execution_count": 8,
   "metadata": {
    "hideCode": false,
    "hidePrompt": false
   },
   "outputs": [
    {
     "data": {
      "image/png": "[encoded data removed]",
      "text/plain": [
       "plot without title"
      ]
     },
     "metadata": {},
     "output_type": "display_data"
    }
   ],
   "source": [
    "# Count of tweets per sentiment and grouped by airline.\n",
    "sentiment_bis = as.data.frame(table(train$airline,train$airline_sentiment))\n",
    "colnames(sentiment_bis) = c(\"Company\", \"Sentiment\", \"Count\")\n",
    "\n",
    "ggplot(sentiment_bis) + aes(x=Company, y=Count, fill=Sentiment) + geom_bar(\n",
    "    stat = 'identity'\n",
    "    ) + scale_fill_brewer(palette=\"Spectral\")"
   ]
  },
  {
   "cell_type": "markdown",
   "metadata": {
    "hideCode": false,
    "hidePrompt": false
   },
   "source": [
    "'United' is the airline with the most negative tweets, followed by \n",
    "'US Airways' and 'American'."
   ]
  },
  {
   "cell_type": "code",
   "execution_count": 9,
   "metadata": {
    "hideCode": false,
    "hidePrompt": false
   },
   "outputs": [
    {
     "name": "stdout",
     "output_type": "stream",
     "text": [
      "<<SimpleCorpus>>\n",
      "Metadata:  corpus specific: 1, document level (indexed): 0\n",
      "Content:  documents: 5\n",
      "\n",
      "[1] @united no they were to busy taking to each other and I needed to get to an audition.                                  \n",
      "[2] @USAirways if there are empty first class seats on my flight at check in, why wouldn't I be automatically upgraded?    \n",
      "[3] @SouthwestAir @FortuneMagazine Congrats!                                                                               \n",
      "[4] @AmericanAir 3127. Just landed in LIT.                                                                                 \n",
      "[5] @AmericanAir @ArminRosen @ggreenwald Tell that piece of shit to get fucked... I'll fly exclusively with you for life...\n"
     ]
    }
   ],
   "source": [
    "# Tweet content.\n",
    "# First thing to do is reading the text in the 'tweets'.\n",
    "corpus <- Corpus(VectorSource(joined$text))\n",
    "\n",
    "# We can take a look at some examples.\n",
    "inspect(corpus[1:5])"
   ]
  },
  {
   "cell_type": "code",
   "execution_count": 31,
   "metadata": {
    "hideCode": false,
    "hidePrompt": false
   },
   "outputs": [],
   "source": [
    "# Function to apply the following transformations to the corpus: \n",
    "# stemming, remove punctuation, strip blanks, remove stopwords and \n",
    "# remove links.\n",
    "cleanCorpus <- function(corpus) {\n",
    "  corpus <-tm_map(corpus, stemDocument)\n",
    "  corpus.tmp <- tm_map(corpus, removePunctuation)\n",
    "  corpus.tmp <- tm_map(corpus.tmp, stripWhitespace)\n",
    "  corpus.tmp <- tm_map(corpus.tmp, removeWords, stopwords(\"en\"))\n",
    "  corpus.tmp <- tm_map(corpus, function(x) gsub('http[[:alnum:]]*', '', x))\n",
    "  return(corpus.tmp)\n",
    "}\n",
    "\n",
    "# Clean the 'corpus' variable.\n",
    "corpus.clean <- cleanCorpus(corpus)"
   ]
  },
  {
   "cell_type": "markdown",
   "metadata": {
    "hideCode": false,
    "hidePrompt": false
   },
   "source": [
    "Represent the bag of words tokens with a `document term matrix` (DTM). \n",
    "The rows of the DTM will correspond to the documents in the collection, columns to the terms, and its elements are the term frequencies."
   ]
  },
  {
   "cell_type": "code",
   "execution_count": 11,
   "metadata": {
    "hideCode": false,
    "hidePrompt": false
   },
   "outputs": [
    {
     "name": "stdout",
     "output_type": "stream",
     "text": [
      "<<DocumentTermMatrix (documents: 14640, terms: 23503)>>\n",
      "Non-/sparse entries: 191830/343892090\n",
      "Sparsity           : 100%\n",
      "Maximal term length: 53\n",
      "Weighting          : term frequency (tf)\n",
      "\n",
      "Shape of the newly created 'bag of words':  14640 23503"
     ]
    }
   ],
   "source": [
    "dtm <- DocumentTermMatrix(corpus.clean)\n",
    "print(dtm)\n",
    "\n",
    "cat(\"\\nShape of the newly created 'bag of words': \", dim(dtm))"
   ]
  },
  {
   "cell_type": "code",
   "execution_count": 12,
   "metadata": {
    "hideCode": false,
    "hidePrompt": false
   },
   "outputs": [
    {
     "data": {
      "image/png": "[encoded data removed]",
      "text/plain": [
       "plot without title"
      ]
     },
     "metadata": {},
     "output_type": "display_data"
    }
   ],
   "source": [
    "# Countplot of the words that appear more than 600 times (this number is \n",
    "# set so that the graph remains readable).\n",
    "top_words_to_show <- 600\n",
    "count <- colSums(as.matrix(dtm)) \n",
    "word <- order(count)\n",
    "df = data.frame(word=names(count), count=count)   \n",
    "\n",
    "ggplot(\n",
    "    subset(df, count > top_words_to_show), \n",
    "    aes(word, count, fill=count)\n",
    "    ) + geom_bar(\n",
    "    stat=\"identity\", show.legend=TRUE\n",
    ") + theme(axis.text.x=element_text(angle=45, hjust=1, size=rel(0.7)))"
   ]
  },
  {
   "cell_type": "code",
   "execution_count": 13,
   "metadata": {
    "hideCode": false,
    "hidePrompt": false
   },
   "outputs": [
    {
     "data": {
      "text/html": [
       "<ol class=list-inline>\n",
       "\t<li>14640</li>\n",
       "\t<li>204</li>\n",
       "</ol>\n"
      ],
      "text/latex": [
       "\\begin{enumerate*}\n",
       "\\item 14640\n",
       "\\item 204\n",
       "\\end{enumerate*}\n"
      ],
      "text/markdown": [
       "1. 14640\n",
       "2. 204\n",
       "\n",
       "\n"
      ],
      "text/plain": [
       "[1] 14640   204"
      ]
     },
     "metadata": {},
     "output_type": "display_data"
    }
   ],
   "source": [
    "# Remove the sparse terms in the matrix (i.e., those terms only \n",
    "# appearing in a few reviews).\n",
    "dtm.nb <- removeSparseTerms(dtm, 0.99)\n",
    "\n",
    "# Converting to a DataFrame.\n",
    "tweets_df <- as.data.frame(as.matrix(dtm.nb))\n",
    "colnames(tweets_df) <- make.names(colnames(tweets_df))\n",
    "tweets_df$airline_sentiment <- joined$airline_sentiment\n",
    "\n",
    "# Print shape of the bag of words dataframe.\n",
    "dim(tweets_df)"
   ]
  },
  {
   "cell_type": "code",
   "execution_count": 14,
   "metadata": {
    "hideCode": false,
    "hidePrompt": false
   },
   "outputs": [
    {
     "name": "stdout",
     "output_type": "stream",
     "text": [
      "Shape of the final dataframes:\n",
      "Train -  7000 209 \n",
      "Test -  7640 209"
     ]
    }
   ],
   "source": [
    "# As we saw on the graph before, depending on the airline the % of a \n",
    "# tweet being positive, negative or neutral varies. \n",
    "# I will now join that info to the text.\n",
    "binarizing_airline <- cbind(\n",
    "    joined, \n",
    "    sapply(levels(joined$airline), \n",
    "    function(x) as.integer(x == joined$airline)), \n",
    "    joined[1]\n",
    "    )\n",
    "binarizing_airline <- binarizing_airline[,c(16:21)]\n",
    "\n",
    "combined_airlines_df <- cbind(binarizing_airline, tweets_df)\n",
    "    \n",
    "# Split again training and test. We will only text data.\n",
    "train_df <- combined_airlines_df[1:dim(train)[1],]\n",
    "test_df <- combined_airlines_df[(dim(train)[1] + 1):dim(tweets_df)[1],]\n",
    "    \n",
    "# Delete duplicate columns.\n",
    "train_df <- train_df[, !duplicated(colnames(train_df))]\n",
    "test_df <- test_df[, !duplicated(colnames(test_df))]\n",
    "\n",
    "cat(\n",
    "    \"Shape of the final dataframes:\\nTrain - \", \n",
    "    dim(train_df), \"\\nTest - \", dim(test_df)\n",
    ")"
   ]
  },
  {
   "cell_type": "code",
   "execution_count": 15,
   "metadata": {
    "hideCode": false,
    "hidePrompt": false
   },
   "outputs": [
    {
     "data": {
      "text/html": [
       "<table>\n",
       "<caption>A data.frame: 3 × 2</caption>\n",
       "<thead>\n",
       "\t<tr><th scope=col>Sentiment</th><th scope=col>%</th></tr>\n",
       "\t<tr><th scope=col>&lt;fct&gt;</th><th scope=col>&lt;dbl&gt;</th></tr>\n",
       "</thead>\n",
       "<tbody>\n",
       "\t<tr><td>1</td><td>0.6247143</td></tr>\n",
       "\t<tr><td>2</td><td>0.2140000</td></tr>\n",
       "\t<tr><td>3</td><td>0.1612857</td></tr>\n",
       "</tbody>\n",
       "</table>\n"
      ],
      "text/latex": [
       "A data.frame: 3 × 2\n",
       "\\begin{tabular}{r|ll}\n",
       " Sentiment & \\%\\\\\n",
       " <fct> & <dbl>\\\\\n",
       "\\hline\n",
       "\t 1 & 0.6247143\\\\\n",
       "\t 2 & 0.2140000\\\\\n",
       "\t 3 & 0.1612857\\\\\n",
       "\\end{tabular}\n"
      ],
      "text/markdown": [
       "\n",
       "A data.frame: 3 × 2\n",
       "\n",
       "| Sentiment &lt;fct&gt; | % &lt;dbl&gt; |\n",
       "|---|---|\n",
       "| 1 | 0.6247143 |\n",
       "| 2 | 0.2140000 |\n",
       "| 3 | 0.1612857 |\n",
       "\n"
      ],
      "text/plain": [
       "  Sentiment %        \n",
       "1 1         0.6247143\n",
       "2 2         0.2140000\n",
       "3 3         0.1612857"
      ]
     },
     "metadata": {},
     "output_type": "display_data"
    }
   ],
   "source": [
    "# What if we make a model that says all negative?\n",
    "percentages = as.data.frame(prop.table(table(ctrain$airline_sentiment)))\n",
    "colnames(percentages) = c('Sentiment', '%')\n",
    "percentages"
   ]
  },
  {
   "cell_type": "code",
   "execution_count": 16,
   "metadata": {
    "hideCode": false,
    "hidePrompt": false,
    "scrolled": true
   },
   "outputs": [
    {
     "name": "stdout",
     "output_type": "stream",
     "text": [
      "+ Fold1: sigma=0.02, C=1 \n",
      "- Fold1: sigma=0.02, C=1 \n",
      "+ Fold1: sigma=0.01, C=1 \n",
      "- Fold1: sigma=0.01, C=1 \n",
      "+ Fold1: sigma=0.02, C=2 \n",
      "- Fold1: sigma=0.02, C=2 \n",
      "+ Fold1: sigma=0.01, C=2 \n",
      "- Fold1: sigma=0.01, C=2 \n",
      "+ Fold2: sigma=0.02, C=1 \n",
      "- Fold2: sigma=0.02, C=1 \n",
      "+ Fold2: sigma=0.01, C=1 \n",
      "- Fold2: sigma=0.01, C=1 \n",
      "+ Fold2: sigma=0.02, C=2 \n",
      "- Fold2: sigma=0.02, C=2 \n",
      "+ Fold2: sigma=0.01, C=2 \n",
      "- Fold2: sigma=0.01, C=2 \n",
      "+ Fold3: sigma=0.02, C=1 \n",
      "- Fold3: sigma=0.02, C=1 \n",
      "+ Fold3: sigma=0.01, C=1 \n",
      "- Fold3: sigma=0.01, C=1 \n",
      "+ Fold3: sigma=0.02, C=2 \n",
      "- Fold3: sigma=0.02, C=2 \n",
      "+ Fold3: sigma=0.01, C=2 \n",
      "- Fold3: sigma=0.01, C=2 \n",
      "+ Fold4: sigma=0.02, C=1 \n",
      "- Fold4: sigma=0.02, C=1 \n",
      "+ Fold4: sigma=0.01, C=1 \n",
      "- Fold4: sigma=0.01, C=1 \n",
      "+ Fold4: sigma=0.02, C=2 \n",
      "- Fold4: sigma=0.02, C=2 \n",
      "+ Fold4: sigma=0.01, C=2 \n",
      "- Fold4: sigma=0.01, C=2 \n",
      "+ Fold5: sigma=0.02, C=1 \n",
      "- Fold5: sigma=0.02, C=1 \n",
      "+ Fold5: sigma=0.01, C=1 \n",
      "- Fold5: sigma=0.01, C=1 \n",
      "+ Fold5: sigma=0.02, C=2 \n",
      "- Fold5: sigma=0.02, C=2 \n",
      "+ Fold5: sigma=0.01, C=2 \n",
      "- Fold5: sigma=0.01, C=2 \n",
      "Aggregating results\n",
      "Selecting tuning parameters\n",
      "Fitting sigma = 0.01, C = 2 on full training set\n"
     ]
    }
   ],
   "source": [
    "# SVM's\n",
    "# Train control for cross validation.\n",
    "train_control <- trainControl(\n",
    "    method=\"cv\", number=5,  search=\"random\", verboseIter = TRUE\n",
    "    )\n",
    "\n",
    "# SVM cross validation.\n",
    "cv.svm_<- train(\n",
    "  as.factor(airline_sentiment)~., \n",
    "  data=data.matrix(train_df),\n",
    "  trControl=train_control,\n",
    "  # SVM Radial Kernel.\n",
    "  method=\"svmRadial\", \n",
    "  metric=\"Accuracy\",\n",
    "  tuneGrid=expand.grid(sigma=c(0.02, 0.01), C=c(1, 2)),\n",
    "  verbose=FALSE\n",
    "  )"
   ]
  },
  {
   "cell_type": "code",
   "execution_count": 17,
   "metadata": {
    "hideCode": false,
    "hidePrompt": false
   },
   "outputs": [
    {
     "data": {
      "text/html": [
       "<table>\n",
       "<caption>A data.frame: 4 × 6</caption>\n",
       "<thead>\n",
       "\t<tr><th scope=col>sigma</th><th scope=col>C</th><th scope=col>Accuracy</th><th scope=col>Kappa</th><th scope=col>AccuracySD</th><th scope=col>KappaSD</th></tr>\n",
       "\t<tr><th scope=col>&lt;dbl&gt;</th><th scope=col>&lt;dbl&gt;</th><th scope=col>&lt;dbl&gt;</th><th scope=col>&lt;dbl&gt;</th><th scope=col>&lt;dbl&gt;</th><th scope=col>&lt;dbl&gt;</th></tr>\n",
       "</thead>\n",
       "<tbody>\n",
       "\t<tr><td>0.01</td><td>1</td><td>0.7262871</td><td>0.4201195</td><td>0.005945572</td><td>0.01728080</td></tr>\n",
       "\t<tr><td>0.01</td><td>2</td><td>0.7284284</td><td>0.4393021</td><td>0.006407793</td><td>0.01822703</td></tr>\n",
       "\t<tr><td>0.02</td><td>1</td><td>0.6992847</td><td>0.3270521</td><td>0.006660520</td><td>0.02000371</td></tr>\n",
       "\t<tr><td>0.02</td><td>2</td><td>0.7008557</td><td>0.3418945</td><td>0.006050391</td><td>0.01980886</td></tr>\n",
       "</tbody>\n",
       "</table>\n"
      ],
      "text/latex": [
       "A data.frame: 4 × 6\n",
       "\\begin{tabular}{r|llllll}\n",
       " sigma & C & Accuracy & Kappa & AccuracySD & KappaSD\\\\\n",
       " <dbl> & <dbl> & <dbl> & <dbl> & <dbl> & <dbl>\\\\\n",
       "\\hline\n",
       "\t 0.01 & 1 & 0.7262871 & 0.4201195 & 0.005945572 & 0.01728080\\\\\n",
       "\t 0.01 & 2 & 0.7284284 & 0.4393021 & 0.006407793 & 0.01822703\\\\\n",
       "\t 0.02 & 1 & 0.6992847 & 0.3270521 & 0.006660520 & 0.02000371\\\\\n",
       "\t 0.02 & 2 & 0.7008557 & 0.3418945 & 0.006050391 & 0.01980886\\\\\n",
       "\\end{tabular}\n"
      ],
      "text/markdown": [
       "\n",
       "A data.frame: 4 × 6\n",
       "\n",
       "| sigma &lt;dbl&gt; | C &lt;dbl&gt; | Accuracy &lt;dbl&gt; | Kappa &lt;dbl&gt; | AccuracySD &lt;dbl&gt; | KappaSD &lt;dbl&gt; |\n",
       "|---|---|---|---|---|---|\n",
       "| 0.01 | 1 | 0.7262871 | 0.4201195 | 0.005945572 | 0.01728080 |\n",
       "| 0.01 | 2 | 0.7284284 | 0.4393021 | 0.006407793 | 0.01822703 |\n",
       "| 0.02 | 1 | 0.6992847 | 0.3270521 | 0.006660520 | 0.02000371 |\n",
       "| 0.02 | 2 | 0.7008557 | 0.3418945 | 0.006050391 | 0.01980886 |\n",
       "\n"
      ],
      "text/plain": [
       "  sigma C Accuracy  Kappa     AccuracySD  KappaSD   \n",
       "1 0.01  1 0.7262871 0.4201195 0.005945572 0.01728080\n",
       "2 0.01  2 0.7284284 0.4393021 0.006407793 0.01822703\n",
       "3 0.02  1 0.6992847 0.3270521 0.006660520 0.02000371\n",
       "4 0.02  2 0.7008557 0.3418945 0.006050391 0.01980886"
      ]
     },
     "metadata": {},
     "output_type": "display_data"
    }
   ],
   "source": [
    "cv.svm_$results"
   ]
  },
  {
   "cell_type": "code",
   "execution_count": 30,
   "metadata": {
    "hideCode": false,
    "hidePrompt": false
   },
   "outputs": [
    {
     "name": "stdout",
     "output_type": "stream",
     "text": [
      "+ Fold1: laplace=0.01, usekernel=TRUE, adjust=0.5 \n",
      "- Fold1: laplace=0.01, usekernel=TRUE, adjust=0.5 \n",
      "+ Fold1: laplace=0.05, usekernel=TRUE, adjust=1.0 \n",
      "- Fold1: laplace=0.05, usekernel=TRUE, adjust=1.0 \n",
      "+ Fold2: laplace=0.01, usekernel=TRUE, adjust=0.5 \n",
      "- Fold2: laplace=0.01, usekernel=TRUE, adjust=0.5 \n",
      "+ Fold2: laplace=0.05, usekernel=TRUE, adjust=1.0 \n",
      "- Fold2: laplace=0.05, usekernel=TRUE, adjust=1.0 \n",
      "+ Fold3: laplace=0.01, usekernel=TRUE, adjust=0.5 \n",
      "- Fold3: laplace=0.01, usekernel=TRUE, adjust=0.5 \n",
      "+ Fold3: laplace=0.05, usekernel=TRUE, adjust=1.0 \n",
      "- Fold3: laplace=0.05, usekernel=TRUE, adjust=1.0 \n",
      "+ Fold4: laplace=0.01, usekernel=TRUE, adjust=0.5 \n",
      "- Fold4: laplace=0.01, usekernel=TRUE, adjust=0.5 \n",
      "+ Fold4: laplace=0.05, usekernel=TRUE, adjust=1.0 \n",
      "- Fold4: laplace=0.05, usekernel=TRUE, adjust=1.0 \n",
      "+ Fold5: laplace=0.01, usekernel=TRUE, adjust=0.5 \n",
      "- Fold5: laplace=0.01, usekernel=TRUE, adjust=0.5 \n",
      "+ Fold5: laplace=0.05, usekernel=TRUE, adjust=1.0 \n",
      "- Fold5: laplace=0.05, usekernel=TRUE, adjust=1.0 \n",
      "Aggregating results\n",
      "Selecting tuning parameters\n",
      "Fitting laplace = 0.05, usekernel = TRUE, adjust = 1 on full training set\n"
     ]
    }
   ],
   "source": [
    "# Naive Bayes\n",
    "grid <- data.frame(\n",
    "    laplace=c(0.01, 0.05), usekernel=TRUE, adjust=c(0.5, 1)\n",
    ")\n",
    " \n",
    "cv.nb<- train(\n",
    "  as.factor(airline_sentiment)~.,\n",
    "  data=data.matrix(train_df),\n",
    "  trControl=train_control,\n",
    "  method=\"naive_bayes\",\n",
    "  metric=\"Accuracy\",\n",
    "  tuneGrid= grid,\n",
    "  verbose=FALSE\n",
    ")"
   ]
  },
  {
   "cell_type": "code",
   "execution_count": 19,
   "metadata": {
    "hideCode": false,
    "hidePrompt": false
   },
   "outputs": [
    {
     "data": {
      "text/html": [
       "<table>\n",
       "<caption>A data.frame: 2 × 7</caption>\n",
       "<thead>\n",
       "\t<tr><th scope=col>laplace</th><th scope=col>usekernel</th><th scope=col>adjust</th><th scope=col>Accuracy</th><th scope=col>Kappa</th><th scope=col>AccuracySD</th><th scope=col>KappaSD</th></tr>\n",
       "\t<tr><th scope=col>&lt;dbl&gt;</th><th scope=col>&lt;lgl&gt;</th><th scope=col>&lt;dbl&gt;</th><th scope=col>&lt;dbl&gt;</th><th scope=col>&lt;dbl&gt;</th><th scope=col>&lt;dbl&gt;</th><th scope=col>&lt;dbl&gt;</th></tr>\n",
       "</thead>\n",
       "<tbody>\n",
       "\t<tr><td>0.01</td><td>TRUE</td><td>0.5</td><td>0.2257179</td><td>0.00863094</td><td>0.01137257</td><td>0.00893194</td></tr>\n",
       "\t<tr><td>0.05</td><td>TRUE</td><td>1.0</td><td>0.2338624</td><td>0.01502877</td><td>0.02160527</td><td>0.01660366</td></tr>\n",
       "</tbody>\n",
       "</table>\n"
      ],
      "text/latex": [
       "A data.frame: 2 × 7\n",
       "\\begin{tabular}{r|lllllll}\n",
       " laplace & usekernel & adjust & Accuracy & Kappa & AccuracySD & KappaSD\\\\\n",
       " <dbl> & <lgl> & <dbl> & <dbl> & <dbl> & <dbl> & <dbl>\\\\\n",
       "\\hline\n",
       "\t 0.01 & TRUE & 0.5 & 0.2257179 & 0.00863094 & 0.01137257 & 0.00893194\\\\\n",
       "\t 0.05 & TRUE & 1.0 & 0.2338624 & 0.01502877 & 0.02160527 & 0.01660366\\\\\n",
       "\\end{tabular}\n"
      ],
      "text/markdown": [
       "\n",
       "A data.frame: 2 × 7\n",
       "\n",
       "| laplace &lt;dbl&gt; | usekernel &lt;lgl&gt; | adjust &lt;dbl&gt; | Accuracy &lt;dbl&gt; | Kappa &lt;dbl&gt; | AccuracySD &lt;dbl&gt; | KappaSD &lt;dbl&gt; |\n",
       "|---|---|---|---|---|---|---|\n",
       "| 0.01 | TRUE | 0.5 | 0.2257179 | 0.00863094 | 0.01137257 | 0.00893194 |\n",
       "| 0.05 | TRUE | 1.0 | 0.2338624 | 0.01502877 | 0.02160527 | 0.01660366 |\n",
       "\n"
      ],
      "text/plain": [
       "  laplace usekernel adjust Accuracy  Kappa      AccuracySD KappaSD   \n",
       "1 0.01    TRUE      0.5    0.2257179 0.00863094 0.01137257 0.00893194\n",
       "2 0.05    TRUE      1.0    0.2338624 0.01502877 0.02160527 0.01660366"
      ]
     },
     "metadata": {},
     "output_type": "display_data"
    }
   ],
   "source": [
    "cv.nb$results"
   ]
  },
  {
   "cell_type": "markdown",
   "metadata": {
    "hideCode": false,
    "hidePrompt": false
   },
   "source": [
    "Results with Naive Bayes are really poor. Probably the independence assumption does not apply in this case."
   ]
  },
  {
   "cell_type": "code",
   "execution_count": 20,
   "metadata": {
    "hideCode": false,
    "hidePrompt": false
   },
   "outputs": [
    {
     "name": "stdout",
     "output_type": "stream",
     "text": [
      "+ Fold1: mtry= 7 \n",
      "- Fold1: mtry= 7 \n",
      "+ Fold1: mtry= 8 \n",
      "- Fold1: mtry= 8 \n",
      "+ Fold1: mtry= 9 \n",
      "- Fold1: mtry= 9 \n",
      "+ Fold1: mtry=10 \n",
      "- Fold1: mtry=10 \n",
      "+ Fold2: mtry= 7 \n",
      "- Fold2: mtry= 7 \n",
      "+ Fold2: mtry= 8 \n",
      "- Fold2: mtry= 8 \n",
      "+ Fold2: mtry= 9 \n",
      "- Fold2: mtry= 9 \n",
      "+ Fold2: mtry=10 \n",
      "- Fold2: mtry=10 \n",
      "+ Fold3: mtry= 7 \n",
      "- Fold3: mtry= 7 \n",
      "+ Fold3: mtry= 8 \n",
      "- Fold3: mtry= 8 \n",
      "+ Fold3: mtry= 9 \n",
      "- Fold3: mtry= 9 \n",
      "+ Fold3: mtry=10 \n",
      "- Fold3: mtry=10 \n",
      "+ Fold4: mtry= 7 \n",
      "- Fold4: mtry= 7 \n",
      "+ Fold4: mtry= 8 \n",
      "- Fold4: mtry= 8 \n",
      "+ Fold4: mtry= 9 \n",
      "- Fold4: mtry= 9 \n",
      "+ Fold4: mtry=10 \n",
      "- Fold4: mtry=10 \n",
      "+ Fold5: mtry= 7 \n",
      "- Fold5: mtry= 7 \n",
      "+ Fold5: mtry= 8 \n",
      "- Fold5: mtry= 8 \n",
      "+ Fold5: mtry= 9 \n",
      "- Fold5: mtry= 9 \n",
      "+ Fold5: mtry=10 \n",
      "- Fold5: mtry=10 \n",
      "Aggregating results\n",
      "Selecting tuning parameters\n",
      "Fitting mtry = 7 on full training set\n"
     ]
    }
   ],
   "source": [
    "# Random Forest\n",
    "cv.rf<- train(\n",
    "  as.factor(airline_sentiment)~., \n",
    "  data=data.matrix(train_df),\n",
    "  trControl=train_control,\n",
    "  method=\"rf\",\n",
    "  metric=\"Accuracy\",\n",
    "  # Number of features to be used by the model.\n",
    "  tuneGrid= expand.grid(.mtry=c(7, 8, 9, 10)), \n",
    "  verbose=FALSE\n",
    "  )"
   ]
  },
  {
   "cell_type": "code",
   "execution_count": 21,
   "metadata": {
    "hideCode": false,
    "hidePrompt": false
   },
   "outputs": [
    {
     "data": {
      "text/html": [
       "<table>\n",
       "<caption>A data.frame: 4 × 5</caption>\n",
       "<thead>\n",
       "\t<tr><th scope=col>mtry</th><th scope=col>Accuracy</th><th scope=col>Kappa</th><th scope=col>AccuracySD</th><th scope=col>KappaSD</th></tr>\n",
       "\t<tr><th scope=col>&lt;dbl&gt;</th><th scope=col>&lt;dbl&gt;</th><th scope=col>&lt;dbl&gt;</th><th scope=col>&lt;dbl&gt;</th><th scope=col>&lt;dbl&gt;</th></tr>\n",
       "</thead>\n",
       "<tbody>\n",
       "\t<tr><td> 7</td><td>0.7345681</td><td>0.4485045</td><td>0.009217313</td><td>0.01753781</td></tr>\n",
       "\t<tr><td> 8</td><td>0.7331406</td><td>0.4483454</td><td>0.007513304</td><td>0.01377656</td></tr>\n",
       "\t<tr><td> 9</td><td>0.7345679</td><td>0.4546458</td><td>0.011817935</td><td>0.02141214</td></tr>\n",
       "\t<tr><td>10</td><td>0.7332835</td><td>0.4533095</td><td>0.008953990</td><td>0.01810744</td></tr>\n",
       "</tbody>\n",
       "</table>\n"
      ],
      "text/latex": [
       "A data.frame: 4 × 5\n",
       "\\begin{tabular}{r|lllll}\n",
       " mtry & Accuracy & Kappa & AccuracySD & KappaSD\\\\\n",
       " <dbl> & <dbl> & <dbl> & <dbl> & <dbl>\\\\\n",
       "\\hline\n",
       "\t  7 & 0.7345681 & 0.4485045 & 0.009217313 & 0.01753781\\\\\n",
       "\t  8 & 0.7331406 & 0.4483454 & 0.007513304 & 0.01377656\\\\\n",
       "\t  9 & 0.7345679 & 0.4546458 & 0.011817935 & 0.02141214\\\\\n",
       "\t 10 & 0.7332835 & 0.4533095 & 0.008953990 & 0.01810744\\\\\n",
       "\\end{tabular}\n"
      ],
      "text/markdown": [
       "\n",
       "A data.frame: 4 × 5\n",
       "\n",
       "| mtry &lt;dbl&gt; | Accuracy &lt;dbl&gt; | Kappa &lt;dbl&gt; | AccuracySD &lt;dbl&gt; | KappaSD &lt;dbl&gt; |\n",
       "|---|---|---|---|---|\n",
       "|  7 | 0.7345681 | 0.4485045 | 0.009217313 | 0.01753781 |\n",
       "|  8 | 0.7331406 | 0.4483454 | 0.007513304 | 0.01377656 |\n",
       "|  9 | 0.7345679 | 0.4546458 | 0.011817935 | 0.02141214 |\n",
       "| 10 | 0.7332835 | 0.4533095 | 0.008953990 | 0.01810744 |\n",
       "\n"
      ],
      "text/plain": [
       "  mtry Accuracy  Kappa     AccuracySD  KappaSD   \n",
       "1  7   0.7345681 0.4485045 0.009217313 0.01753781\n",
       "2  8   0.7331406 0.4483454 0.007513304 0.01377656\n",
       "3  9   0.7345679 0.4546458 0.011817935 0.02141214\n",
       "4 10   0.7332835 0.4533095 0.008953990 0.01810744"
      ]
     },
     "metadata": {},
     "output_type": "display_data"
    }
   ],
   "source": [
    "cv.rf$results"
   ]
  },
  {
   "cell_type": "code",
   "execution_count": 22,
   "metadata": {
    "hideCode": false,
    "hidePrompt": false,
    "scrolled": true
   },
   "outputs": [
    {
     "name": "stdout",
     "output_type": "stream",
     "text": [
      "+ Fold1: eta=0.01, max_depth=4, gamma=1, colsample_bytree=0.75, min_child_weight=2, subsample=0.75, nrounds=1000 \n",
      "- Fold1: eta=0.01, max_depth=4, gamma=1, colsample_bytree=0.75, min_child_weight=2, subsample=0.75, nrounds=1000 \n",
      "+ Fold1: eta=0.01, max_depth=6, gamma=1, colsample_bytree=0.75, min_child_weight=2, subsample=0.75, nrounds=1000 \n",
      "- Fold1: eta=0.01, max_depth=6, gamma=1, colsample_bytree=0.75, min_child_weight=2, subsample=0.75, nrounds=1000 \n",
      "+ Fold1: eta=0.01, max_depth=8, gamma=1, colsample_bytree=0.75, min_child_weight=2, subsample=0.75, nrounds=1000 \n",
      "- Fold1: eta=0.01, max_depth=8, gamma=1, colsample_bytree=0.75, min_child_weight=2, subsample=0.75, nrounds=1000 \n",
      "+ Fold2: eta=0.01, max_depth=4, gamma=1, colsample_bytree=0.75, min_child_weight=2, subsample=0.75, nrounds=1000 \n",
      "- Fold2: eta=0.01, max_depth=4, gamma=1, colsample_bytree=0.75, min_child_weight=2, subsample=0.75, nrounds=1000 \n",
      "+ Fold2: eta=0.01, max_depth=6, gamma=1, colsample_bytree=0.75, min_child_weight=2, subsample=0.75, nrounds=1000 \n",
      "- Fold2: eta=0.01, max_depth=6, gamma=1, colsample_bytree=0.75, min_child_weight=2, subsample=0.75, nrounds=1000 \n",
      "+ Fold2: eta=0.01, max_depth=8, gamma=1, colsample_bytree=0.75, min_child_weight=2, subsample=0.75, nrounds=1000 \n",
      "- Fold2: eta=0.01, max_depth=8, gamma=1, colsample_bytree=0.75, min_child_weight=2, subsample=0.75, nrounds=1000 \n",
      "+ Fold3: eta=0.01, max_depth=4, gamma=1, colsample_bytree=0.75, min_child_weight=2, subsample=0.75, nrounds=1000 \n",
      "- Fold3: eta=0.01, max_depth=4, gamma=1, colsample_bytree=0.75, min_child_weight=2, subsample=0.75, nrounds=1000 \n",
      "+ Fold3: eta=0.01, max_depth=6, gamma=1, colsample_bytree=0.75, min_child_weight=2, subsample=0.75, nrounds=1000 \n",
      "- Fold3: eta=0.01, max_depth=6, gamma=1, colsample_bytree=0.75, min_child_weight=2, subsample=0.75, nrounds=1000 \n",
      "+ Fold3: eta=0.01, max_depth=8, gamma=1, colsample_bytree=0.75, min_child_weight=2, subsample=0.75, nrounds=1000 \n",
      "- Fold3: eta=0.01, max_depth=8, gamma=1, colsample_bytree=0.75, min_child_weight=2, subsample=0.75, nrounds=1000 \n",
      "+ Fold4: eta=0.01, max_depth=4, gamma=1, colsample_bytree=0.75, min_child_weight=2, subsample=0.75, nrounds=1000 \n",
      "- Fold4: eta=0.01, max_depth=4, gamma=1, colsample_bytree=0.75, min_child_weight=2, subsample=0.75, nrounds=1000 \n",
      "+ Fold4: eta=0.01, max_depth=6, gamma=1, colsample_bytree=0.75, min_child_weight=2, subsample=0.75, nrounds=1000 \n",
      "- Fold4: eta=0.01, max_depth=6, gamma=1, colsample_bytree=0.75, min_child_weight=2, subsample=0.75, nrounds=1000 \n",
      "+ Fold4: eta=0.01, max_depth=8, gamma=1, colsample_bytree=0.75, min_child_weight=2, subsample=0.75, nrounds=1000 \n",
      "- Fold4: eta=0.01, max_depth=8, gamma=1, colsample_bytree=0.75, min_child_weight=2, subsample=0.75, nrounds=1000 \n",
      "+ Fold5: eta=0.01, max_depth=4, gamma=1, colsample_bytree=0.75, min_child_weight=2, subsample=0.75, nrounds=1000 \n",
      "- Fold5: eta=0.01, max_depth=4, gamma=1, colsample_bytree=0.75, min_child_weight=2, subsample=0.75, nrounds=1000 \n",
      "+ Fold5: eta=0.01, max_depth=6, gamma=1, colsample_bytree=0.75, min_child_weight=2, subsample=0.75, nrounds=1000 \n",
      "- Fold5: eta=0.01, max_depth=6, gamma=1, colsample_bytree=0.75, min_child_weight=2, subsample=0.75, nrounds=1000 \n",
      "+ Fold5: eta=0.01, max_depth=8, gamma=1, colsample_bytree=0.75, min_child_weight=2, subsample=0.75, nrounds=1000 \n",
      "- Fold5: eta=0.01, max_depth=8, gamma=1, colsample_bytree=0.75, min_child_weight=2, subsample=0.75, nrounds=1000 \n",
      "Aggregating results\n",
      "Selecting tuning parameters\n",
      "Fitting nrounds = 1000, max_depth = 8, eta = 0.01, gamma = 1, colsample_bytree = 0.75, min_child_weight = 2, subsample = 0.75 on full training set\n"
     ]
    }
   ],
   "source": [
    "# XGBoost\n",
    "tuneGridXGB <- expand.grid(\n",
    "    nrounds=c(1000),\n",
    "    max_depth = c(4,6,8),\n",
    "    eta = c(0.01),\n",
    "    gamma = c(1),\n",
    "    colsample_bytree = c(0.75),\n",
    "    subsample = c(0.75),\n",
    "    min_child_weight = c(2)\n",
    ")\n",
    "\n",
    "# Train the xgboost learner.\n",
    "cv.xgboost <- train(\n",
    "  as.factor(airline_sentiment)~., \n",
    "  data=data.matrix(train_df),\n",
    "  method = 'xgbTree',\n",
    "  metric = 'Accuracy',\n",
    "  trControl = train_control,\n",
    "  tuneGrid = tuneGridXGB\n",
    "  )"
   ]
  },
  {
   "cell_type": "code",
   "execution_count": 23,
   "metadata": {
    "hideCode": false,
    "hidePrompt": false
   },
   "outputs": [
    {
     "data": {
      "text/html": [
       "<table>\n",
       "<caption>A data.frame: 3 × 11</caption>\n",
       "<thead>\n",
       "\t<tr><th scope=col>eta</th><th scope=col>max_depth</th><th scope=col>gamma</th><th scope=col>colsample_bytree</th><th scope=col>min_child_weight</th><th scope=col>subsample</th><th scope=col>nrounds</th><th scope=col>Accuracy</th><th scope=col>Kappa</th><th scope=col>AccuracySD</th><th scope=col>KappaSD</th></tr>\n",
       "\t<tr><th scope=col>&lt;dbl&gt;</th><th scope=col>&lt;dbl&gt;</th><th scope=col>&lt;dbl&gt;</th><th scope=col>&lt;dbl&gt;</th><th scope=col>&lt;dbl&gt;</th><th scope=col>&lt;dbl&gt;</th><th scope=col>&lt;dbl&gt;</th><th scope=col>&lt;dbl&gt;</th><th scope=col>&lt;dbl&gt;</th><th scope=col>&lt;dbl&gt;</th><th scope=col>&lt;dbl&gt;</th></tr>\n",
       "</thead>\n",
       "<tbody>\n",
       "\t<tr><td>0.01</td><td>4</td><td>1</td><td>0.75</td><td>2</td><td>0.75</td><td>1000</td><td>0.7301429</td><td>0.4257232</td><td>0.007798482</td><td>0.01971084</td></tr>\n",
       "\t<tr><td>0.01</td><td>6</td><td>1</td><td>0.75</td><td>2</td><td>0.75</td><td>1000</td><td>0.7391429</td><td>0.4549340</td><td>0.011309649</td><td>0.02714703</td></tr>\n",
       "\t<tr><td>0.01</td><td>8</td><td>1</td><td>0.75</td><td>2</td><td>0.75</td><td>1000</td><td>0.7447143</td><td>0.4739309</td><td>0.012011899</td><td>0.02823743</td></tr>\n",
       "</tbody>\n",
       "</table>\n"
      ],
      "text/latex": [
       "A data.frame: 3 × 11\n",
       "\\begin{tabular}{r|lllllllllll}\n",
       " eta & max\\_depth & gamma & colsample\\_bytree & min\\_child\\_weight & subsample & nrounds & Accuracy & Kappa & AccuracySD & KappaSD\\\\\n",
       " <dbl> & <dbl> & <dbl> & <dbl> & <dbl> & <dbl> & <dbl> & <dbl> & <dbl> & <dbl> & <dbl>\\\\\n",
       "\\hline\n",
       "\t 0.01 & 4 & 1 & 0.75 & 2 & 0.75 & 1000 & 0.7301429 & 0.4257232 & 0.007798482 & 0.01971084\\\\\n",
       "\t 0.01 & 6 & 1 & 0.75 & 2 & 0.75 & 1000 & 0.7391429 & 0.4549340 & 0.011309649 & 0.02714703\\\\\n",
       "\t 0.01 & 8 & 1 & 0.75 & 2 & 0.75 & 1000 & 0.7447143 & 0.4739309 & 0.012011899 & 0.02823743\\\\\n",
       "\\end{tabular}\n"
      ],
      "text/markdown": [
       "\n",
       "A data.frame: 3 × 11\n",
       "\n",
       "| eta &lt;dbl&gt; | max_depth &lt;dbl&gt; | gamma &lt;dbl&gt; | colsample_bytree &lt;dbl&gt; | min_child_weight &lt;dbl&gt; | subsample &lt;dbl&gt; | nrounds &lt;dbl&gt; | Accuracy &lt;dbl&gt; | Kappa &lt;dbl&gt; | AccuracySD &lt;dbl&gt; | KappaSD &lt;dbl&gt; |\n",
       "|---|---|---|---|---|---|---|---|---|---|---|\n",
       "| 0.01 | 4 | 1 | 0.75 | 2 | 0.75 | 1000 | 0.7301429 | 0.4257232 | 0.007798482 | 0.01971084 |\n",
       "| 0.01 | 6 | 1 | 0.75 | 2 | 0.75 | 1000 | 0.7391429 | 0.4549340 | 0.011309649 | 0.02714703 |\n",
       "| 0.01 | 8 | 1 | 0.75 | 2 | 0.75 | 1000 | 0.7447143 | 0.4739309 | 0.012011899 | 0.02823743 |\n",
       "\n"
      ],
      "text/plain": [
       "  eta  max_depth gamma colsample_bytree min_child_weight subsample nrounds\n",
       "1 0.01 4         1     0.75             2                0.75      1000   \n",
       "2 0.01 6         1     0.75             2                0.75      1000   \n",
       "3 0.01 8         1     0.75             2                0.75      1000   \n",
       "  Accuracy  Kappa     AccuracySD  KappaSD   \n",
       "1 0.7301429 0.4257232 0.007798482 0.01971084\n",
       "2 0.7391429 0.4549340 0.011309649 0.02714703\n",
       "3 0.7447143 0.4739309 0.012011899 0.02823743"
      ]
     },
     "metadata": {},
     "output_type": "display_data"
    }
   ],
   "source": [
    "cv.xgboost$results"
   ]
  },
  {
   "cell_type": "code",
   "execution_count": 24,
   "metadata": {
    "hideCode": false,
    "hidePrompt": false
   },
   "outputs": [
    {
     "name": "stdout",
     "output_type": "stream",
     "text": [
      "+ Fold1: k=15 \n",
      "- Fold1: k=15 \n",
      "+ Fold1: k=20 \n",
      "- Fold1: k=20 \n",
      "+ Fold1: k=18 \n",
      "- Fold1: k=18 \n",
      "+ Fold2: k=15 \n",
      "- Fold2: k=15 \n",
      "+ Fold2: k=20 \n",
      "- Fold2: k=20 \n",
      "+ Fold2: k=18 \n",
      "- Fold2: k=18 \n",
      "+ Fold3: k=15 \n",
      "- Fold3: k=15 \n",
      "+ Fold3: k=20 \n",
      "- Fold3: k=20 \n",
      "+ Fold3: k=18 \n",
      "- Fold3: k=18 \n",
      "+ Fold4: k=15 \n",
      "- Fold4: k=15 \n",
      "+ Fold4: k=20 \n",
      "- Fold4: k=20 \n",
      "+ Fold4: k=18 \n",
      "- Fold4: k=18 \n",
      "+ Fold5: k=15 \n",
      "- Fold5: k=15 \n",
      "+ Fold5: k=20 \n",
      "- Fold5: k=20 \n",
      "+ Fold5: k=18 \n",
      "- Fold5: k=18 \n",
      "Aggregating results\n",
      "Selecting tuning parameters\n",
      "Fitting k = 18 on full training set\n"
     ]
    }
   ],
   "source": [
    "# KNN\n",
    "cv.knn <- train(\n",
    "  as.factor(airline_sentiment)~., \n",
    "  data=data.matrix(train_df),\n",
    "  method = \"knn\",\n",
    "  trControl = train_control,\n",
    "  preProcess = c(\"center\",\"scale\"),\n",
    "  tuneLength = 20,\n",
    "  tuneGrid = expand.grid(.k=c(15, 20, 18))\n",
    "  )"
   ]
  },
  {
   "cell_type": "code",
   "execution_count": 25,
   "metadata": {
    "hideCode": false,
    "hidePrompt": false,
    "scrolled": true
   },
   "outputs": [
    {
     "data": {
      "text/html": [
       "<table>\n",
       "<caption>A data.frame: 3 × 5</caption>\n",
       "<thead>\n",
       "\t<tr><th scope=col>k</th><th scope=col>Accuracy</th><th scope=col>Kappa</th><th scope=col>AccuracySD</th><th scope=col>KappaSD</th></tr>\n",
       "\t<tr><th scope=col>&lt;dbl&gt;</th><th scope=col>&lt;dbl&gt;</th><th scope=col>&lt;dbl&gt;</th><th scope=col>&lt;dbl&gt;</th><th scope=col>&lt;dbl&gt;</th></tr>\n",
       "</thead>\n",
       "<tbody>\n",
       "\t<tr><td>15</td><td>0.6081410</td><td>0.3366989</td><td>0.02201104</td><td>0.02951883</td></tr>\n",
       "\t<tr><td>18</td><td>0.6084307</td><td>0.3385627</td><td>0.02381534</td><td>0.03249344</td></tr>\n",
       "\t<tr><td>20</td><td>0.6027167</td><td>0.3312044</td><td>0.02493577</td><td>0.03332266</td></tr>\n",
       "</tbody>\n",
       "</table>\n"
      ],
      "text/latex": [
       "A data.frame: 3 × 5\n",
       "\\begin{tabular}{r|lllll}\n",
       " k & Accuracy & Kappa & AccuracySD & KappaSD\\\\\n",
       " <dbl> & <dbl> & <dbl> & <dbl> & <dbl>\\\\\n",
       "\\hline\n",
       "\t 15 & 0.6081410 & 0.3366989 & 0.02201104 & 0.02951883\\\\\n",
       "\t 18 & 0.6084307 & 0.3385627 & 0.02381534 & 0.03249344\\\\\n",
       "\t 20 & 0.6027167 & 0.3312044 & 0.02493577 & 0.03332266\\\\\n",
       "\\end{tabular}\n"
      ],
      "text/markdown": [
       "\n",
       "A data.frame: 3 × 5\n",
       "\n",
       "| k &lt;dbl&gt; | Accuracy &lt;dbl&gt; | Kappa &lt;dbl&gt; | AccuracySD &lt;dbl&gt; | KappaSD &lt;dbl&gt; |\n",
       "|---|---|---|---|---|\n",
       "| 15 | 0.6081410 | 0.3366989 | 0.02201104 | 0.02951883 |\n",
       "| 18 | 0.6084307 | 0.3385627 | 0.02381534 | 0.03249344 |\n",
       "| 20 | 0.6027167 | 0.3312044 | 0.02493577 | 0.03332266 |\n",
       "\n"
      ],
      "text/plain": [
       "  k  Accuracy  Kappa     AccuracySD KappaSD   \n",
       "1 15 0.6081410 0.3366989 0.02201104 0.02951883\n",
       "2 18 0.6084307 0.3385627 0.02381534 0.03249344\n",
       "3 20 0.6027167 0.3312044 0.02493577 0.03332266"
      ]
     },
     "metadata": {},
     "output_type": "display_data"
    }
   ],
   "source": [
    "cv.knn$results"
   ]
  },
  {
   "cell_type": "markdown",
   "metadata": {
    "hideCode": false,
    "hidePrompt": false
   },
   "source": [
    "### Final Submission\n",
    "I Choose to create a `csv` file only for the model with the best prediction on the training set, XGBoost."
   ]
  },
  {
   "cell_type": "code",
   "execution_count": 26,
   "metadata": {
    "hideCode": false,
    "hidePrompt": false
   },
   "outputs": [],
   "source": [
    "submission_set <- read.csv(\"./sample_submission.csv\", header = TRUE, sep = \",\")\n",
    "pred <- predict(cv.xgboost, data.matrix(train_df))\n",
    "submission <- data.frame(tweet_id = submission_set$tweet_id, y = pred)\n",
    "\n",
    "# Change the numbers back to the letter-initial factors.\n",
    "submission$airline_sentiment[submission$y == 1] <- \"negative\"\n",
    "submission$airline_sentiment[submission$y == 2] <- \"neutral\"\n",
    "submission$airline_sentiment[submission$y == 3] <- \"positive\"\n",
    "\n",
    "# Save the output in a csv file in the required format.\n",
    "write.csv(\n",
    "    submission[\n",
    "         , which(names(submission) %in% c(\"tweet_id\", \"airline_sentiment\"))\n",
    "         ], \n",
    "    file = \"submission.csv\", row.names=FALSE, quote = FALSE\n",
    "    )"
   ]
  },
  {
   "cell_type": "code",
   "execution_count": null,
   "metadata": {
    "hideCode": false,
    "hidePrompt": false
   },
   "outputs": [],
   "source": []
  }
 ],
 "metadata": {
  "hide_code_all_hidden": true,
  "kernelspec": {
   "display_name": "R",
   "language": "R",
   "name": "ir"
  },
  "language_info": {
   "codemirror_mode": "r",
   "file_extension": ".r",
   "mimetype": "text/x-r-source",
   "name": "R",
   "pygments_lexer": "r",
   "version": "3.6.1"
  }
 },
 "nbformat": 4,
 "nbformat_minor": 2
}
